{
 "cells": [
  {
   "cell_type": "code",
   "execution_count": null,
   "source": [
    "# Import the random module.\r\n",
    "import random"
   ],
   "outputs": [],
   "metadata": {}
  },
  {
   "cell_type": "code",
   "execution_count": null,
   "source": [
    "random.randint(-90, 90)"
   ],
   "outputs": [],
   "metadata": {}
  },
  {
   "cell_type": "code",
   "execution_count": null,
   "source": [
    "random.random()"
   ],
   "outputs": [],
   "metadata": {}
  },
  {
   "cell_type": "code",
   "execution_count": null,
   "source": [
    "random_number = random.randint(-90,90) + random.random()\r\n",
    "random_number"
   ],
   "outputs": [],
   "metadata": {}
  },
  {
   "cell_type": "code",
   "execution_count": null,
   "source": [
    "x = 1\r\n",
    "latitudes = []\r\n",
    "while x < 11:\r\n",
    "    random_lat = random.randint(-90, 89) + random.random()\r\n",
    "    latitudes.append(random_lat)\r\n",
    "    x += 1"
   ],
   "outputs": [],
   "metadata": {}
  },
  {
   "cell_type": "code",
   "execution_count": null,
   "source": [
    "random.randrange(-90, 90, step=1)"
   ],
   "outputs": [],
   "metadata": {}
  },
  {
   "cell_type": "code",
   "execution_count": null,
   "source": [
    "random.randrange(-90, 90, step=3)"
   ],
   "outputs": [],
   "metadata": {}
  },
  {
   "cell_type": "code",
   "execution_count": null,
   "source": [
    "# Import the NumPy module.\r\n",
    "import numpy as np"
   ],
   "outputs": [],
   "metadata": {}
  },
  {
   "cell_type": "code",
   "execution_count": null,
   "source": [
    "np.random.uniform(-90.000, 90.000)"
   ],
   "outputs": [],
   "metadata": {}
  },
  {
   "cell_type": "code",
   "execution_count": null,
   "source": [
    "# Import timeit.\r\n",
    "import timeit"
   ],
   "outputs": [],
   "metadata": {}
  },
  {
   "cell_type": "markdown",
   "source": [
    "# This code was 100 times slower than the function\r\n",
    "def latitudes(size):\r\n",
    "    latitudes = []\r\n",
    "    x = 0\r\n",
    "    while x < (size):\r\n",
    "        random_lat = random.randint(-90, 90) + random.random()\r\n",
    "        latitudes.append(random_lat)\r\n",
    "        x += 1\r\n",
    "    return latitudes\r\n",
    "# Call the function with 1500.\r\n",
    "%timeit latitudes(1500)"
   ],
   "metadata": {}
  },
  {
   "cell_type": "code",
   "execution_count": null,
   "source": [
    "# Faster code!\r\n",
    "%timeit np.random.uniform(-90.000, 90.000, size=1500)"
   ],
   "outputs": [],
   "metadata": {}
  }
 ],
 "metadata": {
  "orig_nbformat": 4,
  "language_info": {
   "name": "python",
   "version": "3.7.10",
   "mimetype": "text/x-python",
   "codemirror_mode": {
    "name": "ipython",
    "version": 3
   },
   "pygments_lexer": "ipython3",
   "nbconvert_exporter": "python",
   "file_extension": ".py"
  },
  "kernelspec": {
   "name": "python3",
   "display_name": "Python 3.7.10 64-bit ('PythonData': conda)"
  },
  "interpreter": {
   "hash": "20e42fc53d77a2ba94d1543f0bc4fe477b7812356aaec9b4575db5e6c2c825a1"
  }
 },
 "nbformat": 4,
 "nbformat_minor": 2
}